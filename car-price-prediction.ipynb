{
 "cells": [
  {
   "cell_type": "markdown",
   "id": "2fe18b55",
   "metadata": {},
   "source": [
    "# KaggleX Skill Assessment Challenge"
   ]
  },
  {
   "cell_type": "markdown",
   "id": "a73d7209",
   "metadata": {},
   "source": [
    "## Import libraries"
   ]
  },
  {
   "cell_type": "code",
   "execution_count": 6,
   "id": "5c110521",
   "metadata": {},
   "outputs": [
    {
     "name": "stdout",
     "output_type": "stream",
     "text": [
      "Success!\n"
     ]
    }
   ],
   "source": [
    "import pandas as pd\n",
    "import numpy as np\n",
    "import seaborn as sns\n",
    "from scipy import stats\n",
    "import matplotlib.pyplot as plt\n",
    "from sklearn.model_selection import train_test_split\n",
    "from sklearn.ensemble import RandomForestRegressor\n",
    "from sklearn.linear_model import LinearRegression\n",
    "from sklearn.metrics import mean_squared_error, r2_score\n",
    "from sklearn.preprocessing import StandardScaler\n",
    "from sklearn.pipeline import Pipeline\n",
    "from sklearn.preprocessing import LabelEncoder\n",
    "from sklearn.compose import ColumnTransformer\n",
    "from sklearn.impute import SimpleImputer\n",
    "from sklearn.preprocessing import OneHotEncoder\n",
    "print(\"Success!\")"
   ]
  },
  {
   "cell_type": "markdown",
   "id": "7f2fc29e",
   "metadata": {},
   "source": [
    "## Loading the dataset"
   ]
  },
  {
   "cell_type": "code",
   "execution_count": 7,
   "id": "37345ea0",
   "metadata": {},
   "outputs": [
    {
     "name": "stdout",
     "output_type": "stream",
     "text": [
      "(54273, 13)\n",
      "(36183, 12)\n"
     ]
    }
   ],
   "source": [
    "df_train = pd.read_csv(\"train.csv\")\n",
    "df_test = pd.read_csv(\"test.csv\")\n",
    "print(df_train.shape)\n",
    "print(df_test.shape)"
   ]
  },
  {
   "cell_type": "markdown",
   "id": "0fc4d7bf",
   "metadata": {},
   "source": [
    "## EDA"
   ]
  },
  {
   "cell_type": "markdown",
   "id": "fd7bc0b4",
   "metadata": {},
   "source": [
    "## Approach"
   ]
  },
  {
   "cell_type": "code",
   "execution_count": 11,
   "id": "138cbd91",
   "metadata": {},
   "outputs": [],
   "source": [
    "#Data Cleaning\n",
    "# Handle missing values - done\n",
    "#Check dataset for outliers - done\n",
    "# Check for data consistency and correctness\n",
    "#Conduct univariate analysis : examine individual features to understand their distribution, central tendancies and spread\n",
    "#bivariate analysis : relationships between pair features\n",
    "#assess correlation, significance and dependencies\n",
    "#assess multivariate analysis\n",
    "\n",
    "#Data pre-processing\n",
    "#feature scaling : standardize and normalize numerical features (mileage, engine displacement) to similar scale and improve model performance\n",
    "#Feature engineering\n",
    "#create new features from existing ones: (age of care, mileage per year)\n",
    "#encode categorical variables (car make, model, fuel type) into numerical representation\n",
    "\n",
    "#Data splitting\n",
    "#Split data into Train and Test \n",
    "\n",
    "#Model selection and Training\n",
    "#Choose appropriate regression model (linear regression, decision tree, random forest, gradient boosting)\n",
    "#train using train dataset\n",
    "\n",
    "#7. Model evaluation\n",
    "#Predict car prices using trained model on testing data\n",
    "#compute the RMSE using predicted prices and actual prices NB: Lower RMSE indicates better predictive accuracy.\n",
    "\n",
    "#Model tuning and optimization\n",
    "#fine tune hyper parameters to improve model performance\n",
    "#consider cross validation techniques to validate model robustness\n",
    "#Features for prediction"
   ]
  },
  {
   "cell_type": "code",
   "execution_count": 12,
   "id": "b7113fa9",
   "metadata": {},
   "outputs": [
    {
     "name": "stdout",
     "output_type": "stream",
     "text": [
      "Measures of Central Tendancies\n",
      "\n",
      "                 id    model_year         milage         price\n",
      "count  54273.000000  54273.000000   54273.000000  5.427300e+04\n",
      "mean   27136.000000   2015.091979   72746.175667  3.921844e+04\n",
      "std    15667.409917      5.588909   50469.490448  7.282634e+04\n",
      "min        0.000000   1974.000000     100.000000  2.000000e+03\n",
      "25%    13568.000000   2012.000000   32268.000000  1.550000e+04\n",
      "50%    27136.000000   2016.000000   66107.000000  2.800000e+04\n",
      "75%    40704.000000   2019.000000  102000.000000  4.500000e+04\n",
      "max    54272.000000   2024.000000  405000.000000  2.954083e+06\n",
      "\n",
      "Data Info\n",
      "<class 'pandas.core.frame.DataFrame'>\n",
      "RangeIndex: 54273 entries, 0 to 54272\n",
      "Data columns (total 13 columns):\n",
      " #   Column        Non-Null Count  Dtype \n",
      "---  ------        --------------  ----- \n",
      " 0   id            54273 non-null  int64 \n",
      " 1   brand         54273 non-null  object\n",
      " 2   model         54273 non-null  object\n",
      " 3   model_year    54273 non-null  int64 \n",
      " 4   milage        54273 non-null  int64 \n",
      " 5   fuel_type     54273 non-null  object\n",
      " 6   engine        54273 non-null  object\n",
      " 7   transmission  54273 non-null  object\n",
      " 8   ext_col       54273 non-null  object\n",
      " 9   int_col       54273 non-null  object\n",
      " 10  accident      54273 non-null  object\n",
      " 11  clean_title   54273 non-null  object\n",
      " 12  price         54273 non-null  int64 \n",
      "dtypes: int64(4), object(9)\n",
      "memory usage: 5.4+ MB\n",
      "None\n"
     ]
    }
   ],
   "source": [
    "\"\"\"\n",
    "Car Manufacturer: The brand or company that manufactured the car.\n",
    "Car Model: The specific model of the car.\n",
    "Car Age: The age of the car in years since its manufacturing.\n",
    "Car Mileage: The number of miles the car has been driven.\n",
    "Transmission Type\n",
    "Safety Features\n",
    "Door Count\n",
    "Dimensions\n",
    "Navigation System Presence\n",
    "Vehicle Cost\n",
    "\"\"\"\n",
    "\n",
    "print(\"Measures of Central Tendancies\\n\")\n",
    "print(df_train.describe())\n",
    "print(\"\\nData Info\")\n",
    "print(df_train.info())"
   ]
  },
  {
   "cell_type": "markdown",
   "id": "fbe12bb0",
   "metadata": {},
   "source": [
    "## Data Cleaning"
   ]
  },
  {
   "cell_type": "code",
   "execution_count": 13,
   "id": "3346a32a",
   "metadata": {},
   "outputs": [
    {
     "name": "stdout",
     "output_type": "stream",
     "text": [
      "No NA's in data\n",
      "No NA's in data\n",
      "0\n",
      "0\n",
      "1472752128\n",
      "2618346612\n"
     ]
    }
   ],
   "source": [
    "## Check if there is a column with NA values\n",
    "if all(df_train.isna().sum())>1:\n",
    "    print(df_train.isna().sum())\n",
    "    df = df_train.fillna(df_train.median()) #impute with median\n",
    "else:\n",
    "    print(\"No NA's in data\")\n",
    "## Check if there is a column with NA values\n",
    "if all(df_test.isna().sum())>1:\n",
    "    print(df_test.isna().sum())\n",
    "    df = df_test.fillna(df_test.median()) #impute with median\n",
    "else:\n",
    "    print(\"No NA's in data\")\n",
    "print(df_train[\"id\"].duplicated().sum())\n",
    "print(df_test[\"id\"].duplicated().sum())\n",
    "print(df_train[\"id\"].unique().sum())\n",
    "print(df_test[\"id\"].unique().sum())"
   ]
  },
  {
   "cell_type": "markdown",
   "id": "f6f288b4",
   "metadata": {},
   "source": [
    "## Feature Engineering"
   ]
  },
  {
   "cell_type": "markdown",
   "id": "eae68c93",
   "metadata": {},
   "source": [
    "## Train Dataset"
   ]
  },
  {
   "cell_type": "code",
   "execution_count": 14,
   "id": "8f4f98c2",
   "metadata": {},
   "outputs": [
    {
     "name": "stdout",
     "output_type": "stream",
     "text": [
      "Index(['id', 'brand', 'model', 'model_year', 'milage', 'fuel_type', 'engine',\n",
      "       'transmission', 'ext_col', 'int_col', 'accident', 'clean_title',\n",
      "       'price'],\n",
      "      dtype='object')\n",
      "Model Year :  34\n",
      "Brand :  53\n",
      "Fuel Type :  7\n",
      "Engine :  1061\n",
      "Transmission :  46\n",
      "Ext Col :  260\n",
      "Int Col :  124\n",
      "Accident :  2\n",
      "Clean Title :  1\n",
      "Price :  1481\n"
     ]
    }
   ],
   "source": [
    "print(df_train.columns)\n",
    "print(\"Model Year : \", len(df_train[\"model_year\"].unique()))\n",
    "print(\"Brand : \", len(df_train[\"brand\"].unique()))\n",
    "print(\"Fuel Type : \", len(df_train[\"fuel_type\"].unique()))\n",
    "print(\"Engine : \", len(df_train[\"engine\"].unique()))\n",
    "print(\"Transmission : \", len(df_train[\"transmission\"].unique()))\n",
    "print(\"Ext Col : \", len(df_train[\"ext_col\"].unique()))\n",
    "print(\"Int Col : \", len(df_train[\"int_col\"].unique()))\n",
    "print(\"Accident : \", len(df_train[\"accident\"].unique()))\n",
    "print(\"Clean Title : \", len(df_train[\"clean_title\"].unique()))\n",
    "print(\"Price : \", len(df_train[\"price\"].unique()))"
   ]
  },
  {
   "cell_type": "markdown",
   "id": "a73f9b33",
   "metadata": {},
   "source": [
    "## Test Dataset"
   ]
  },
  {
   "cell_type": "code",
   "execution_count": null,
   "id": "95edffbd",
   "metadata": {},
   "outputs": [],
   "source": [
    "print(df_test.columns)\n",
    "print(\"Model Year : \", len(df_test[\"model_year\"].unique()))\n",
    "print(\"Brand : \", len(df_test[\"brand\"].unique()))\n",
    "print(\"Fuel Type : \", len(df_test[\"fuel_type\"].unique()))\n",
    "print(\"Engine : \", len(df_test[\"engine\"].unique()))\n",
    "print(\"Transmission : \", len(df_test[\"transmission\"].unique()))\n",
    "print(\"Ext Col : \", len(df_test[\"ext_col\"].unique()))\n",
    "print(\"Int Col : \", len(df_test[\"int_col\"].unique()))\n",
    "print(\"Accident : \", len(df_test[\"accident\"].unique()))\n",
    "print(\"Clean Title : \", len(df_test[\"clean_title\"].unique()))\n",
    "print(\"Price : \", len(df_test[\"price\"].unique()))"
   ]
  },
  {
   "cell_type": "markdown",
   "id": "d096c017",
   "metadata": {},
   "source": [
    "## Outliers"
   ]
  },
  {
   "cell_type": "code",
   "execution_count": 16,
   "id": "c52bb5d7",
   "metadata": {},
   "outputs": [
    {
     "data": {
      "text/plain": [
       "id               int64\n",
       "brand           object\n",
       "model           object\n",
       "model_year       int64\n",
       "milage           int64\n",
       "fuel_type       object\n",
       "engine          object\n",
       "transmission    object\n",
       "ext_col         object\n",
       "int_col         object\n",
       "accident        object\n",
       "clean_title     object\n",
       "price            int64\n",
       "dtype: object"
      ]
     },
     "execution_count": 16,
     "metadata": {},
     "output_type": "execute_result"
    }
   ],
   "source": [
    "df_train.dtypes"
   ]
  },
  {
   "cell_type": "code",
   "execution_count": 17,
   "id": "95fc35bf",
   "metadata": {},
   "outputs": [
    {
     "name": "stdout",
     "output_type": "stream",
     "text": [
      "Index(['id', 'model_year', 'milage', 'price'], dtype='object')\n"
     ]
    },
    {
     "data": {
      "image/png": "[encoded data removed]",
      "text/plain": [
       "<Figure size 640x480 with 1 Axes>"
      ]
     },
     "metadata": {},
     "output_type": "display_data"
    }
   ],
   "source": [
    "print(df_train.select_dtypes('int64').columns)\n",
    "sns.boxplot(data=df_train[['model_year', 'milage', 'price']]);\n",
    "plt.show()"
   ]
  },
  {
   "cell_type": "code",
   "execution_count": 18,
   "id": "1713d044",
   "metadata": {},
   "outputs": [
    {
     "name": "stdout",
     "output_type": "stream",
     "text": [
      "(53005, 13)\n"
     ]
    },
    {
     "data": {
      "image/png": "[encoded data removed]",
      "text/plain": [
       "<Figure size 640x480 with 1 Axes>"
      ]
     },
     "metadata": {},
     "output_type": "display_data"
    }
   ],
   "source": [
    "#Statistical identification using z-score method\n",
    "z_scores = np.abs(stats.zscore(df_train[['model_year', 'milage', 'price']]))\n",
    "df_train_cleaned = df_train[(z_scores <3).all(axis=1)]\n",
    "print(df_train_cleaned.shape)\n",
    "#View boxplot of data\n",
    "sns.boxplot(data=df_train_cleaned)\n",
    "plt.show();"
   ]
  },
  {
   "cell_type": "code",
   "execution_count": 19,
   "id": "0e7ba313",
   "metadata": {},
   "outputs": [
    {
     "name": "stdout",
     "output_type": "stream",
     "text": [
      "0\n"
     ]
    }
   ],
   "source": [
    "### Check for Duplicates\n",
    "duplicates_train = df_train_cleaned.duplicated().sum()\n",
    "print(duplicates_train)\n",
    "### validate categorical values\n",
    "df_train_cleaned = df_train_cleaned.copy()\n",
    "for col in df_train_cleaned.select_dtypes(include=['object']).columns:\n",
    "    #print(f\"Unique values in {col} :\\n {df[col].unique()}\")\n",
    "    df_train_cleaned[col] = df_train_cleaned[col].str.lower().str.strip()"
   ]
  },
  {
   "cell_type": "code",
   "execution_count": 21,
   "id": "09982f9c",
   "metadata": {},
   "outputs": [],
   "source": [
    "### validate categorical values\n",
    "df_test_cleaned = df_test.copy()\n",
    "for col in df_test.select_dtypes(include=['object']).columns:\n",
    "    #print(f\"Unique values in {col} :\\n {df[col].unique()}\")\n",
    "    df_test_cleaned[col] = df_test_cleaned[col].str.lower().str.strip()"
   ]
  },
  {
   "cell_type": "code",
   "execution_count": 22,
   "id": "5d3bb696",
   "metadata": {},
   "outputs": [
    {
     "name": "stdout",
     "output_type": "stream",
     "text": [
      "(36183, 12)\n",
      "1999\n",
      "2024\n",
      "int64\n"
     ]
    }
   ],
   "source": [
    "#Logical consistency checks for the column Year\n",
    "print(df_test_cleaned.shape)\n",
    "print(df_train_cleaned[\"model_year\"].min())\n",
    "print(df_train_cleaned[\"model_year\"].max())\n",
    "print(df_train_cleaned[\"model_year\"].dtype)"
   ]
  },
  {
   "cell_type": "markdown",
   "id": "12b6be40",
   "metadata": {},
   "source": [
    "## Encode"
   ]
  },
  {
   "cell_type": "code",
   "execution_count": 23,
   "id": "59b5562e",
   "metadata": {},
   "outputs": [
    {
     "name": "stdout",
     "output_type": "stream",
     "text": [
      "brand : 52\n",
      "model : 1809\n",
      "fuel_type : 7\n",
      "engine : 1056\n",
      "transmission : 46\n",
      "ext_col : 259\n",
      "int_col : 123\n",
      "accident : 2\n",
      "clean_title : 1\n"
     ]
    }
   ],
   "source": [
    "for col in df_train_cleaned.select_dtypes('object').columns.values:\n",
    "    print(f\"{col} : {len(df_train_cleaned[col].unique())}\")"
   ]
  },
  {
   "cell_type": "code",
   "execution_count": 24,
   "id": "3a0614cd",
   "metadata": {},
   "outputs": [
    {
     "name": "stdout",
     "output_type": "stream",
     "text": [
      "brand : 53\n",
      "model : 1788\n",
      "fuel_type : 7\n",
      "engine : 1038\n",
      "transmission : 44\n",
      "ext_col : 230\n",
      "int_col : 111\n",
      "accident : 2\n",
      "clean_title : 1\n"
     ]
    }
   ],
   "source": [
    "for col in df_test_cleaned.select_dtypes('object').columns.values:\n",
    "    print(f\"{col} : {len(df_test_cleaned[col].unique())}\")"
   ]
  },
  {
   "cell_type": "code",
   "execution_count": 25,
   "id": "5e2ef716",
   "metadata": {},
   "outputs": [
    {
     "data": {
      "text/html": [
       "<div>\n",
       "<style scoped>\n",
       "    .dataframe tbody tr th:only-of-type {\n",
       "        vertical-align: middle;\n",
       "    }\n",
       "\n",
       "    .dataframe tbody tr th {\n",
       "        vertical-align: top;\n",
       "    }\n",
       "\n",
       "    .dataframe thead th {\n",
       "        text-align: right;\n",
       "    }\n",
       "</style>\n",
       "<table border=\"1\" class=\"dataframe\">\n",
       "  <thead>\n",
       "    <tr style=\"text-align: right;\">\n",
       "      <th></th>\n",
       "      <th>id</th>\n",
       "      <th>brand</th>\n",
       "      <th>model</th>\n",
       "      <th>model_year</th>\n",
       "      <th>milage</th>\n",
       "      <th>fuel_type</th>\n",
       "      <th>engine</th>\n",
       "      <th>transmission</th>\n",
       "      <th>ext_col</th>\n",
       "      <th>int_col</th>\n",
       "      <th>accident</th>\n",
       "      <th>clean_title</th>\n",
       "      <th>price</th>\n",
       "      <th>brand_encoded</th>\n",
       "      <th>model_encoded</th>\n",
       "      <th>engine_encoded</th>\n",
       "      <th>transmission_encoded</th>\n",
       "      <th>extcol_encoded</th>\n",
       "      <th>intcol_encoded</th>\n",
       "    </tr>\n",
       "  </thead>\n",
       "  <tbody>\n",
       "    <tr>\n",
       "      <th>0</th>\n",
       "      <td>0</td>\n",
       "      <td>ford</td>\n",
       "      <td>f-150 lariat</td>\n",
       "      <td>2018</td>\n",
       "      <td>74349</td>\n",
       "      <td>gasoline</td>\n",
       "      <td>375.0hp 3.5l v6 cylinder engine gasoline fuel</td>\n",
       "      <td>10-speed a/t</td>\n",
       "      <td>blue</td>\n",
       "      <td>gray</td>\n",
       "      <td>none reported</td>\n",
       "      <td>yes</td>\n",
       "      <td>11000</td>\n",
       "      <td>13</td>\n",
       "      <td>640</td>\n",
       "      <td>715</td>\n",
       "      <td>2</td>\n",
       "      <td>25</td>\n",
       "      <td>56</td>\n",
       "    </tr>\n",
       "  </tbody>\n",
       "</table>\n",
       "</div>"
      ],
      "text/plain": [
       "   id brand         model  model_year  milage fuel_type  \\\n",
       "0   0  ford  f-150 lariat        2018   74349  gasoline   \n",
       "\n",
       "                                          engine  transmission ext_col  \\\n",
       "0  375.0hp 3.5l v6 cylinder engine gasoline fuel  10-speed a/t    blue   \n",
       "\n",
       "  int_col       accident clean_title  price  brand_encoded  model_encoded  \\\n",
       "0    gray  none reported         yes  11000             13            640   \n",
       "\n",
       "   engine_encoded  transmission_encoded  extcol_encoded  intcol_encoded  \n",
       "0             715                     2              25              56  "
      ]
     },
     "execution_count": 25,
     "metadata": {},
     "output_type": "execute_result"
    }
   ],
   "source": [
    "#Initialize label encoder\n",
    "label_encoder = LabelEncoder()\n",
    "#Implement on columns\n",
    "df_train_cleaned = df_train_cleaned.copy()\n",
    "df_train_cleaned[\"brand_encoded\"] = label_encoder.fit_transform(df_train_cleaned[\"brand\"])\n",
    "df_train_cleaned[\"model_encoded\"] = label_encoder.fit_transform(df_train_cleaned[\"model\"])\n",
    "df_train_cleaned[\"engine_encoded\"] = label_encoder.fit_transform(df_train_cleaned[\"engine\"])\n",
    "df_train_cleaned[\"transmission_encoded\"] = label_encoder.fit_transform(df_train_cleaned[\"transmission\"])\n",
    "df_train_cleaned[\"extcol_encoded\"] = label_encoder.fit_transform(df_train_cleaned[\"ext_col\"])\n",
    "df_train_cleaned[\"intcol_encoded\"] = label_encoder.fit_transform(df_train_cleaned[\"int_col\"])\n",
    "df_train_cleaned.head(1)"
   ]
  },
  {
   "cell_type": "code",
   "execution_count": 26,
   "id": "aefd0268",
   "metadata": {},
   "outputs": [
    {
     "data": {
      "text/html": [
       "<div>\n",
       "<style scoped>\n",
       "    .dataframe tbody tr th:only-of-type {\n",
       "        vertical-align: middle;\n",
       "    }\n",
       "\n",
       "    .dataframe tbody tr th {\n",
       "        vertical-align: top;\n",
       "    }\n",
       "\n",
       "    .dataframe thead th {\n",
       "        text-align: right;\n",
       "    }\n",
       "</style>\n",
       "<table border=\"1\" class=\"dataframe\">\n",
       "  <thead>\n",
       "    <tr style=\"text-align: right;\">\n",
       "      <th></th>\n",
       "      <th>id</th>\n",
       "      <th>brand</th>\n",
       "      <th>model</th>\n",
       "      <th>model_year</th>\n",
       "      <th>milage</th>\n",
       "      <th>fuel_type</th>\n",
       "      <th>engine</th>\n",
       "      <th>transmission</th>\n",
       "      <th>ext_col</th>\n",
       "      <th>int_col</th>\n",
       "      <th>accident</th>\n",
       "      <th>clean_title</th>\n",
       "      <th>brand_encoded</th>\n",
       "      <th>model_encoded</th>\n",
       "      <th>engine_encoded</th>\n",
       "      <th>transmission_encoded</th>\n",
       "      <th>extcol_encoded</th>\n",
       "      <th>intcol_encoded</th>\n",
       "    </tr>\n",
       "  </thead>\n",
       "  <tbody>\n",
       "    <tr>\n",
       "      <th>0</th>\n",
       "      <td>54273</td>\n",
       "      <td>mercedes-benz</td>\n",
       "      <td>e-class e 350</td>\n",
       "      <td>2014</td>\n",
       "      <td>73000</td>\n",
       "      <td>gasoline</td>\n",
       "      <td>302.0hp 3.5l v6 cylinder engine gasoline fuel</td>\n",
       "      <td>a/t</td>\n",
       "      <td>white</td>\n",
       "      <td>beige</td>\n",
       "      <td>none reported</td>\n",
       "      <td>yes</td>\n",
       "      <td>33</td>\n",
       "      <td>530</td>\n",
       "      <td>544</td>\n",
       "      <td>33</td>\n",
       "      <td>220</td>\n",
       "      <td>8</td>\n",
       "    </tr>\n",
       "  </tbody>\n",
       "</table>\n",
       "</div>"
      ],
      "text/plain": [
       "      id          brand          model  model_year  milage fuel_type  \\\n",
       "0  54273  mercedes-benz  e-class e 350        2014   73000  gasoline   \n",
       "\n",
       "                                          engine transmission ext_col int_col  \\\n",
       "0  302.0hp 3.5l v6 cylinder engine gasoline fuel          a/t   white   beige   \n",
       "\n",
       "        accident clean_title  brand_encoded  model_encoded  engine_encoded  \\\n",
       "0  none reported         yes             33            530             544   \n",
       "\n",
       "   transmission_encoded  extcol_encoded  intcol_encoded  \n",
       "0                    33             220               8  "
      ]
     },
     "execution_count": 26,
     "metadata": {},
     "output_type": "execute_result"
    }
   ],
   "source": [
    "#Initialize label encoder\n",
    "label_encoder = LabelEncoder()\n",
    "#Implement on columns\n",
    "df_test_cleaned = df_test_cleaned.copy()\n",
    "df_test_cleaned[\"brand_encoded\"] = label_encoder.fit_transform(df_test_cleaned[\"brand\"])\n",
    "df_test_cleaned[\"model_encoded\"] = label_encoder.fit_transform(df_test_cleaned[\"model\"])\n",
    "df_test_cleaned[\"engine_encoded\"] = label_encoder.fit_transform(df_test_cleaned[\"engine\"])\n",
    "df_test_cleaned[\"transmission_encoded\"] = label_encoder.fit_transform(df_test_cleaned[\"transmission\"])\n",
    "df_test_cleaned[\"extcol_encoded\"] = label_encoder.fit_transform(df_test_cleaned[\"ext_col\"])\n",
    "df_test_cleaned[\"intcol_encoded\"] = label_encoder.fit_transform(df_test_cleaned[\"int_col\"])\n",
    "df_test_cleaned.head(1)"
   ]
  },
  {
   "cell_type": "code",
   "execution_count": 27,
   "id": "a458cd78",
   "metadata": {},
   "outputs": [
    {
     "name": "stdout",
     "output_type": "stream",
     "text": [
      "Index(['brand_encoded', 'model_encoded', 'engine_encoded',\n",
      "       'transmission_encoded', 'extcol_encoded', 'intcol_encoded',\n",
      "       'fuel_type_diesel', 'fuel_type_e85 flex fuel', 'fuel_type_gasoline',\n",
      "       'fuel_type_hybrid', 'fuel_type_not supported',\n",
      "       'fuel_type_plug-in hybrid', 'fuel_type_–',\n",
      "       'accident_at least 1 accident or damage reported',\n",
      "       'accident_none reported', 'clean_title_yes'],\n",
      "      dtype='object')\n",
      "(53005, 26)\n"
     ]
    },
    {
     "data": {
      "text/html": [
       "<div>\n",
       "<style scoped>\n",
       "    .dataframe tbody tr th:only-of-type {\n",
       "        vertical-align: middle;\n",
       "    }\n",
       "\n",
       "    .dataframe tbody tr th {\n",
       "        vertical-align: top;\n",
       "    }\n",
       "\n",
       "    .dataframe thead th {\n",
       "        text-align: right;\n",
       "    }\n",
       "</style>\n",
       "<table border=\"1\" class=\"dataframe\">\n",
       "  <thead>\n",
       "    <tr style=\"text-align: right;\">\n",
       "      <th></th>\n",
       "      <th>id</th>\n",
       "      <th>brand</th>\n",
       "      <th>model</th>\n",
       "      <th>model_year</th>\n",
       "      <th>milage</th>\n",
       "      <th>engine</th>\n",
       "      <th>transmission</th>\n",
       "      <th>ext_col</th>\n",
       "      <th>int_col</th>\n",
       "      <th>price</th>\n",
       "      <th>...</th>\n",
       "      <th>fuel_type_diesel</th>\n",
       "      <th>fuel_type_e85 flex fuel</th>\n",
       "      <th>fuel_type_gasoline</th>\n",
       "      <th>fuel_type_hybrid</th>\n",
       "      <th>fuel_type_not supported</th>\n",
       "      <th>fuel_type_plug-in hybrid</th>\n",
       "      <th>fuel_type_–</th>\n",
       "      <th>accident_at least 1 accident or damage reported</th>\n",
       "      <th>accident_none reported</th>\n",
       "      <th>clean_title_yes</th>\n",
       "    </tr>\n",
       "  </thead>\n",
       "  <tbody>\n",
       "    <tr>\n",
       "      <th>0</th>\n",
       "      <td>0</td>\n",
       "      <td>ford</td>\n",
       "      <td>f-150 lariat</td>\n",
       "      <td>2018</td>\n",
       "      <td>74349</td>\n",
       "      <td>375.0hp 3.5l v6 cylinder engine gasoline fuel</td>\n",
       "      <td>10-speed a/t</td>\n",
       "      <td>blue</td>\n",
       "      <td>gray</td>\n",
       "      <td>11000</td>\n",
       "      <td>...</td>\n",
       "      <td>0</td>\n",
       "      <td>0</td>\n",
       "      <td>1</td>\n",
       "      <td>0</td>\n",
       "      <td>0</td>\n",
       "      <td>0</td>\n",
       "      <td>0</td>\n",
       "      <td>0</td>\n",
       "      <td>1</td>\n",
       "      <td>1</td>\n",
       "    </tr>\n",
       "  </tbody>\n",
       "</table>\n",
       "<p>1 rows × 26 columns</p>\n",
       "</div>"
      ],
      "text/plain": [
       "   id brand         model  model_year  milage  \\\n",
       "0   0  ford  f-150 lariat        2018   74349   \n",
       "\n",
       "                                          engine  transmission ext_col  \\\n",
       "0  375.0hp 3.5l v6 cylinder engine gasoline fuel  10-speed a/t    blue   \n",
       "\n",
       "  int_col  price  ...  fuel_type_diesel  fuel_type_e85 flex fuel  \\\n",
       "0    gray  11000  ...                 0                        0   \n",
       "\n",
       "   fuel_type_gasoline  fuel_type_hybrid  fuel_type_not supported  \\\n",
       "0                   1                 0                        0   \n",
       "\n",
       "   fuel_type_plug-in hybrid  fuel_type_–  \\\n",
       "0                         0            0   \n",
       "\n",
       "   accident_at least 1 accident or damage reported  accident_none reported  \\\n",
       "0                                                0                       1   \n",
       "\n",
       "   clean_title_yes  \n",
       "0                1  \n",
       "\n",
       "[1 rows x 26 columns]"
      ]
     },
     "execution_count": 27,
     "metadata": {},
     "output_type": "execute_result"
    }
   ],
   "source": [
    "#One hot encoding for categorical columns\n",
    "df_train_onehot = pd.get_dummies(df_train_cleaned,columns = ['fuel_type','accident','clean_title'])\n",
    "print(df_train_onehot.iloc[:,10:].columns)\n",
    "#Transform to Interger\n",
    "df_train_onehot.iloc[:,10:] = df_train_onehot.iloc[:,10:].astype(int)\n",
    "print(df_train_onehot.shape)\n",
    "df_train_onehot.head(1)"
   ]
  },
  {
   "cell_type": "code",
   "execution_count": 28,
   "id": "c11312fe",
   "metadata": {},
   "outputs": [
    {
     "name": "stdout",
     "output_type": "stream",
     "text": [
      "Index(['id', 'brand', 'model', 'model_year', 'milage', 'engine',\n",
      "       'transmission', 'ext_col', 'int_col', 'brand_encoded', 'model_encoded',\n",
      "       'engine_encoded', 'transmission_encoded', 'extcol_encoded',\n",
      "       'intcol_encoded', 'fuel_type_diesel', 'fuel_type_e85 flex fuel',\n",
      "       'fuel_type_gasoline', 'fuel_type_hybrid', 'fuel_type_not supported',\n",
      "       'fuel_type_plug-in hybrid', 'fuel_type_–',\n",
      "       'accident_at least 1 accident or damage reported',\n",
      "       'accident_none reported', 'clean_title_yes'],\n",
      "      dtype='object')\n",
      "(36183, 25)\n"
     ]
    },
    {
     "data": {
      "text/html": [
       "<div>\n",
       "<style scoped>\n",
       "    .dataframe tbody tr th:only-of-type {\n",
       "        vertical-align: middle;\n",
       "    }\n",
       "\n",
       "    .dataframe tbody tr th {\n",
       "        vertical-align: top;\n",
       "    }\n",
       "\n",
       "    .dataframe thead th {\n",
       "        text-align: right;\n",
       "    }\n",
       "</style>\n",
       "<table border=\"1\" class=\"dataframe\">\n",
       "  <thead>\n",
       "    <tr style=\"text-align: right;\">\n",
       "      <th></th>\n",
       "      <th>brand_encoded</th>\n",
       "      <th>model_encoded</th>\n",
       "      <th>engine_encoded</th>\n",
       "      <th>transmission_encoded</th>\n",
       "      <th>extcol_encoded</th>\n",
       "      <th>intcol_encoded</th>\n",
       "      <th>fuel_type_diesel</th>\n",
       "      <th>fuel_type_e85 flex fuel</th>\n",
       "      <th>fuel_type_gasoline</th>\n",
       "      <th>fuel_type_hybrid</th>\n",
       "      <th>fuel_type_not supported</th>\n",
       "      <th>fuel_type_plug-in hybrid</th>\n",
       "      <th>fuel_type_–</th>\n",
       "      <th>accident_at least 1 accident or damage reported</th>\n",
       "      <th>accident_none reported</th>\n",
       "      <th>clean_title_yes</th>\n",
       "    </tr>\n",
       "  </thead>\n",
       "  <tbody>\n",
       "    <tr>\n",
       "      <th>0</th>\n",
       "      <td>33</td>\n",
       "      <td>530</td>\n",
       "      <td>544</td>\n",
       "      <td>33</td>\n",
       "      <td>220</td>\n",
       "      <td>8</td>\n",
       "      <td>0</td>\n",
       "      <td>0</td>\n",
       "      <td>1</td>\n",
       "      <td>0</td>\n",
       "      <td>0</td>\n",
       "      <td>0</td>\n",
       "      <td>0</td>\n",
       "      <td>0</td>\n",
       "      <td>1</td>\n",
       "      <td>1</td>\n",
       "    </tr>\n",
       "  </tbody>\n",
       "</table>\n",
       "</div>"
      ],
      "text/plain": [
       "   brand_encoded  model_encoded  engine_encoded  transmission_encoded  \\\n",
       "0             33            530             544                    33   \n",
       "\n",
       "   extcol_encoded  intcol_encoded  fuel_type_diesel  fuel_type_e85 flex fuel  \\\n",
       "0             220               8                 0                        0   \n",
       "\n",
       "   fuel_type_gasoline  fuel_type_hybrid  fuel_type_not supported  \\\n",
       "0                   1                 0                        0   \n",
       "\n",
       "   fuel_type_plug-in hybrid  fuel_type_–  \\\n",
       "0                         0            0   \n",
       "\n",
       "   accident_at least 1 accident or damage reported  accident_none reported  \\\n",
       "0                                                0                       1   \n",
       "\n",
       "   clean_title_yes  \n",
       "0                1  "
      ]
     },
     "execution_count": 28,
     "metadata": {},
     "output_type": "execute_result"
    }
   ],
   "source": [
    "#One hot encoding for categorical columns\n",
    "df_test_onehot = pd.get_dummies(df_test_cleaned,columns = ['fuel_type','accident','clean_title'])\n",
    "print(df_test_onehot.columns)\n",
    "#Transform to Interger\n",
    "df_test_onehot.iloc[:,9:] = df_test_onehot.iloc[:,9:].astype(int)\n",
    "print(df_test_onehot.shape)\n",
    "df_test_onehot.iloc[:,9:].head(1)"
   ]
  },
  {
   "cell_type": "markdown",
   "id": "95808687",
   "metadata": {},
   "source": [
    "## Feature Engineering"
   ]
  },
  {
   "cell_type": "code",
   "execution_count": 29,
   "id": "5eba5499",
   "metadata": {},
   "outputs": [
    {
     "name": "stdout",
     "output_type": "stream",
     "text": [
      "(36183, 27)\n",
      "(53005, 28)\n"
     ]
    }
   ],
   "source": [
    "df_train_onehot[\"car_age\"] = 2024-df_train_onehot[\"model_year\"]\n",
    "df_train_onehot[\"av_milage\"] = df_train_onehot[\"milage\"]/df_train_onehot[\"car_age\"]\n",
    "df_test_onehot[\"car_age\"] = 2024-df_test_onehot[\"model_year\"]\n",
    "df_test_onehot[\"av_milage\"] = df_test_onehot[\"milage\"]/df_test_onehot[\"car_age\"]\n",
    "print(df_test_onehot.shape)\n",
    "print(df_train_onehot.shape)"
   ]
  },
  {
   "cell_type": "markdown",
   "id": "3e718c53",
   "metadata": {},
   "source": [
    "## Check Correlation of Features with Price"
   ]
  },
  {
   "cell_type": "markdown",
   "id": "83364e11",
   "metadata": {},
   "source": [
    "### Heatmap"
   ]
  },
  {
   "cell_type": "code",
   "execution_count": 30,
   "id": "33854fda",
   "metadata": {
    "scrolled": true
   },
   "outputs": [
    {
     "data": {
      "image/png": "[encoded data removed]",
      "text/plain": [
       "<Figure size 640x480 with 2 Axes>"
      ]
     },
     "metadata": {},
     "output_type": "display_data"
    }
   ],
   "source": [
    "sns.heatmap(df_train_onehot.select_dtypes(['int64','int32','float64']).corr());"
   ]
  },
  {
   "cell_type": "markdown",
   "id": "8f1d7399",
   "metadata": {},
   "source": [
    "### Correlation Matrix"
   ]
  },
  {
   "cell_type": "code",
   "execution_count": 32,
   "id": "ecde2d28",
   "metadata": {},
   "outputs": [
    {
     "name": "stdout",
     "output_type": "stream",
     "text": [
      "price                                              1.000000\n",
      "model_year                                         0.493703\n",
      "engine_encoded                                     0.435898\n",
      "accident_none reported                             0.233108\n",
      "accident_at least 1 accident or damage reported   -0.233108\n",
      "car_age                                           -0.493703\n",
      "milage                                            -0.535788\n",
      "Name: price, dtype: float64\n"
     ]
    }
   ],
   "source": [
    "correlation_train = df_train_onehot.select_dtypes(['int64','int32','float64']).corr()[\"price\"].sort_values(ascending=False)\n",
    "print(correlation_train[np.abs(correlation_train)>0.2])"
   ]
  },
  {
   "cell_type": "markdown",
   "id": "ac0352e8",
   "metadata": {},
   "source": [
    "## Select the Columns with Highest Correlation"
   ]
  },
  {
   "cell_type": "code",
   "execution_count": 33,
   "id": "bf688e4f",
   "metadata": {
    "scrolled": true
   },
   "outputs": [
    {
     "name": "stdout",
     "output_type": "stream",
     "text": [
      "(53005, 6)\n"
     ]
    },
    {
     "data": {
      "text/html": [
       "<div>\n",
       "<style scoped>\n",
       "    .dataframe tbody tr th:only-of-type {\n",
       "        vertical-align: middle;\n",
       "    }\n",
       "\n",
       "    .dataframe tbody tr th {\n",
       "        vertical-align: top;\n",
       "    }\n",
       "\n",
       "    .dataframe thead th {\n",
       "        text-align: right;\n",
       "    }\n",
       "</style>\n",
       "<table border=\"1\" class=\"dataframe\">\n",
       "  <thead>\n",
       "    <tr style=\"text-align: right;\">\n",
       "      <th></th>\n",
       "      <th>price</th>\n",
       "      <th>milage</th>\n",
       "      <th>car_age</th>\n",
       "      <th>accident_at least 1 accident or damage reported</th>\n",
       "      <th>accident_none reported</th>\n",
       "      <th>engine_encoded</th>\n",
       "    </tr>\n",
       "  </thead>\n",
       "  <tbody>\n",
       "    <tr>\n",
       "      <th>0</th>\n",
       "      <td>11000</td>\n",
       "      <td>74349</td>\n",
       "      <td>6</td>\n",
       "      <td>0</td>\n",
       "      <td>1</td>\n",
       "      <td>715</td>\n",
       "    </tr>\n",
       "    <tr>\n",
       "      <th>1</th>\n",
       "      <td>8250</td>\n",
       "      <td>80000</td>\n",
       "      <td>17</td>\n",
       "      <td>0</td>\n",
       "      <td>1</td>\n",
       "      <td>530</td>\n",
       "    </tr>\n",
       "    <tr>\n",
       "      <th>2</th>\n",
       "      <td>15000</td>\n",
       "      <td>91491</td>\n",
       "      <td>15</td>\n",
       "      <td>0</td>\n",
       "      <td>1</td>\n",
       "      <td>537</td>\n",
       "    </tr>\n",
       "  </tbody>\n",
       "</table>\n",
       "</div>"
      ],
      "text/plain": [
       "   price  milage  car_age  accident_at least 1 accident or damage reported  \\\n",
       "0  11000   74349        6                                                0   \n",
       "1   8250   80000       17                                                0   \n",
       "2  15000   91491       15                                                0   \n",
       "\n",
       "   accident_none reported  engine_encoded  \n",
       "0                       1             715  \n",
       "1                       1             530  \n",
       "2                       1             537  "
      ]
     },
     "execution_count": 33,
     "metadata": {},
     "output_type": "execute_result"
    }
   ],
   "source": [
    "train_df = df_train_onehot[[\"price\",\"milage\",\"car_age\",\"accident_at least 1 accident or damage reported\",\"accident_none reported\",\"engine_encoded\"]]\n",
    "print(train_df.shape)\n",
    "train_df.head(3)"
   ]
  },
  {
   "cell_type": "code",
   "execution_count": 34,
   "id": "d79473c8",
   "metadata": {},
   "outputs": [
    {
     "name": "stdout",
     "output_type": "stream",
     "text": [
      "(36183, 1)\n"
     ]
    },
    {
     "data": {
      "text/html": [
       "<div>\n",
       "<style scoped>\n",
       "    .dataframe tbody tr th:only-of-type {\n",
       "        vertical-align: middle;\n",
       "    }\n",
       "\n",
       "    .dataframe tbody tr th {\n",
       "        vertical-align: top;\n",
       "    }\n",
       "\n",
       "    .dataframe thead th {\n",
       "        text-align: right;\n",
       "    }\n",
       "</style>\n",
       "<table border=\"1\" class=\"dataframe\">\n",
       "  <thead>\n",
       "    <tr style=\"text-align: right;\">\n",
       "      <th></th>\n",
       "      <th>predicted price</th>\n",
       "    </tr>\n",
       "    <tr>\n",
       "      <th>id</th>\n",
       "      <th></th>\n",
       "    </tr>\n",
       "  </thead>\n",
       "  <tbody>\n",
       "    <tr>\n",
       "      <th>54273</th>\n",
       "      <td>34207.771336</td>\n",
       "    </tr>\n",
       "    <tr>\n",
       "      <th>54274</th>\n",
       "      <td>20955.297273</td>\n",
       "    </tr>\n",
       "    <tr>\n",
       "      <th>54275</th>\n",
       "      <td>32475.725958</td>\n",
       "    </tr>\n",
       "    <tr>\n",
       "      <th>54276</th>\n",
       "      <td>54510.532234</td>\n",
       "    </tr>\n",
       "    <tr>\n",
       "      <th>54277</th>\n",
       "      <td>37137.374683</td>\n",
       "    </tr>\n",
       "  </tbody>\n",
       "</table>\n",
       "</div>"
      ],
      "text/plain": [
       "       predicted price\n",
       "id                    \n",
       "54273     34207.771336\n",
       "54274     20955.297273\n",
       "54275     32475.725958\n",
       "54276     54510.532234\n",
       "54277     37137.374683"
      ]
     },
     "execution_count": 34,
     "metadata": {},
     "output_type": "execute_result"
    }
   ],
   "source": [
    "#Model selection and Training\n",
    "#Choose appropriate regression model (linear regression, decision tree, random forest, gradient boosting)\n",
    "#train using train dataset\n",
    "target = \"price\"\n",
    "X_train = train_df.drop(columns=[target])\n",
    "X_test = df_test_onehot[X_train.columns]\n",
    "y_train = train_df[target]\n",
    "model = LinearRegression()\n",
    "model.fit(X_train,y_train)\n",
    "#Predictions\n",
    "y_pred = pd.DataFrame(model.predict(X_test),index=df_test_onehot[\"id\"],columns=['predicted price'])\n",
    "y_pred.to_csv(\"submission_predictions.csv\")\n",
    "print(y_pred.shape)\n",
    "y_pred.head()"
   ]
  },
  {
   "cell_type": "code",
   "execution_count": null,
   "id": "521c643e",
   "metadata": {},
   "outputs": [],
   "source": []
  }
 ],
 "metadata": {
  "kernelspec": {
   "display_name": "Python 3 (ipykernel)",
   "language": "python",
   "name": "python3"
  },
  "language_info": {
   "codemirror_mode": {
    "name": "ipython",
    "version": 3
   },
   "file_extension": ".py",
   "mimetype": "text/x-python",
   "name": "python",
   "nbconvert_exporter": "python",
   "pygments_lexer": "ipython3",
   "version": "3.11.5"
  }
 },
 "nbformat": 4,
 "nbformat_minor": 5
}
